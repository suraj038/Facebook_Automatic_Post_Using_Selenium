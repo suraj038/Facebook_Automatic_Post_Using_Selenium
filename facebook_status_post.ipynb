{
 "cells": [
  {
   "cell_type": "code",
   "execution_count": null,
   "metadata": {},
   "outputs": [],
   "source": [
    "#posting status in facebook with selenium\n",
    "\n",
    "from selenium import webdriver\n",
    "from selenium.webdriver.common.by import By\n",
    "from time import sleep\n",
    "from selenium.webdriver.support.ui import WebDriverWait\n",
    "import time\n",
    "\n",
    "driver = webdriver.Chrome()\n",
    "driver.get('http://facebook.com')\n",
    "emailelement = driver.find_element(By.XPATH,'.//*//*[@id=\"email\"]')\n",
    "emailelement.send_keys('YOUR ID')\n",
    "\n",
    "passelement = driver.find_element(By.XPATH,'.//*//*[@id=\"pass\"]')\n",
    "passelement.send_keys('YOUR PASSWORD')\n",
    "\n",
    "elem = driver.find_element(By.XPATH,'.//*[@id=\"loginbutton\"]')\n",
    "elem.click()\n",
    "\n",
    "statuselement = driver.find_element(By.XPATH, \"//*[@name='xhpc_message']\")\n",
    "time.sleep(15)\n",
    "\n",
    "statuselement.send_keys('Hey there')\n",
    "time.sleep(15)\n",
    "buttons = driver.find_elements_by_tag_name('button')\n",
    "time.sleep(15)\n",
    "for button in buttons:\n",
    "    if button.text == 'Share':\n",
    "        button.click()"
   ]
  },
  {
   "cell_type": "code",
   "execution_count": null,
   "metadata": {},
   "outputs": [],
   "source": []
  }
 ],
 "metadata": {
  "kernelspec": {
   "display_name": "Python 3",
   "language": "python",
   "name": "python3"
  },
  "language_info": {
   "codemirror_mode": {
    "name": "ipython",
    "version": 3
   },
   "file_extension": ".py",
   "mimetype": "text/x-python",
   "name": "python",
   "nbconvert_exporter": "python",
   "pygments_lexer": "ipython3",
   "version": "3.6.7"
  }
 },
 "nbformat": 4,
 "nbformat_minor": 2
}
